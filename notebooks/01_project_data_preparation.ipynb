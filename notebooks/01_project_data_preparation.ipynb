{
 "cells": [
  {
   "cell_type": "markdown",
   "metadata": {},
   "source": [
    "# Project Data Preparation Notebook\n",
    "\n",
    "This notebook loads the two project CSV files, combines them, selects specific fields (id, title, objective, contentUpdateDate), and saves the result as a new CSV file."
   ]
  },
  {
   "cell_type": "code",
   "execution_count": 5,
   "metadata": {},
   "outputs": [],
   "source": [
    "import pandas as pd\n",
    "\n",
    "# Define the fields we want to keep\n",
    "fields = ['id', 'title', 'objective', 'contentUpdateDate']"
   ]
  },
  {
   "cell_type": "code",
   "execution_count": 6,
   "metadata": {},
   "outputs": [
    {
     "name": "stdout",
     "output_type": "stream",
     "text": [
      "Loaded and combined 48726 projects\n"
     ]
    },
    {
     "data": {
      "text/html": [
       "<div>\n",
       "<style scoped>\n",
       "    .dataframe tbody tr th:only-of-type {\n",
       "        vertical-align: middle;\n",
       "    }\n",
       "\n",
       "    .dataframe tbody tr th {\n",
       "        vertical-align: top;\n",
       "    }\n",
       "\n",
       "    .dataframe thead th {\n",
       "        text-align: right;\n",
       "    }\n",
       "</style>\n",
       "<table border=\"1\" class=\"dataframe\">\n",
       "  <thead>\n",
       "    <tr style=\"text-align: right;\">\n",
       "      <th></th>\n",
       "      <th>id</th>\n",
       "      <th>title</th>\n",
       "      <th>objective</th>\n",
       "      <th>contentUpdateDate</th>\n",
       "    </tr>\n",
       "  </thead>\n",
       "  <tbody>\n",
       "    <tr>\n",
       "      <th>0</th>\n",
       "      <td>101006382</td>\n",
       "      <td>Mission-Oriented SwafS to Advance Innovation t...</td>\n",
       "      <td>While most SwafS initiatives have contributed ...</td>\n",
       "      <td>2024-07-22 12:39:54</td>\n",
       "    </tr>\n",
       "    <tr>\n",
       "      <th>1</th>\n",
       "      <td>633080</td>\n",
       "      <td>Monitoring Atmospheric Composition and Climate...</td>\n",
       "      <td>MACC-III is the last of the pre-operational st...</td>\n",
       "      <td>2022-08-16 16:46:44</td>\n",
       "    </tr>\n",
       "    <tr>\n",
       "      <th>2</th>\n",
       "      <td>633212</td>\n",
       "      <td>Aging Lungs in European Cohorts</td>\n",
       "      <td>This programme of work will advance the unders...</td>\n",
       "      <td>2023-10-25 16:11:30</td>\n",
       "    </tr>\n",
       "    <tr>\n",
       "      <th>3</th>\n",
       "      <td>879534</td>\n",
       "      <td>The Enterprise Europe Network Baden-Wuerttembe...</td>\n",
       "      <td>BW-KAM 5 will implement tested and tailored in...</td>\n",
       "      <td>2022-10-28 14:08:00</td>\n",
       "    </tr>\n",
       "    <tr>\n",
       "      <th>4</th>\n",
       "      <td>743826</td>\n",
       "      <td>The Enterprise Europe Network Baden-Wuerttembe...</td>\n",
       "      <td>By providing Key Account Management and Enhanc...</td>\n",
       "      <td>2022-08-15 13:07:16</td>\n",
       "    </tr>\n",
       "  </tbody>\n",
       "</table>\n",
       "</div>"
      ],
      "text/plain": [
       "          id                                              title  \\\n",
       "0  101006382  Mission-Oriented SwafS to Advance Innovation t...   \n",
       "1     633080  Monitoring Atmospheric Composition and Climate...   \n",
       "2     633212                    Aging Lungs in European Cohorts   \n",
       "3     879534  The Enterprise Europe Network Baden-Wuerttembe...   \n",
       "4     743826  The Enterprise Europe Network Baden-Wuerttembe...   \n",
       "\n",
       "                                           objective    contentUpdateDate  \n",
       "0  While most SwafS initiatives have contributed ...  2024-07-22 12:39:54  \n",
       "1  MACC-III is the last of the pre-operational st...  2022-08-16 16:46:44  \n",
       "2  This programme of work will advance the unders...  2023-10-25 16:11:30  \n",
       "3  BW-KAM 5 will implement tested and tailored in...  2022-10-28 14:08:00  \n",
       "4  By providing Key Account Management and Enhanc...  2022-08-15 13:07:16  "
      ]
     },
     "execution_count": 6,
     "metadata": {},
     "output_type": "execute_result"
    }
   ],
   "source": [
    "# Load the CSV files\n",
    "df_14_20 = pd.read_csv(\"../data/projects_14_20.csv\", sep=';', quotechar='\"', escapechar='\\\\')\n",
    "df_21_27 = pd.read_csv(\"../data/projects_21_27.csv\", sep=';', quotechar='\"', escapechar='\\\\')\n",
    "\n",
    "# Select only the fields we want\n",
    "df_14_20 = df_14_20[fields]\n",
    "df_21_27 = df_21_27[fields]\n",
    "\n",
    "# Combine the two dataframes\n",
    "df_combined = pd.concat([df_14_20, df_21_27], ignore_index=True)\n",
    "\n",
    "print(f\"Loaded and combined {len(df_combined)} projects\")\n",
    "df_combined.head()"
   ]
  },
  {
   "cell_type": "code",
   "execution_count": 8,
   "metadata": {},
   "outputs": [
    {
     "name": "stdout",
     "output_type": "stream",
     "text": [
      "<class 'pandas.core.frame.DataFrame'>\n",
      "RangeIndex: 48726 entries, 0 to 48725\n",
      "Data columns (total 4 columns):\n",
      " #   Column             Non-Null Count  Dtype \n",
      "---  ------             --------------  ----- \n",
      " 0   id                 48726 non-null  int64 \n",
      " 1   title              48726 non-null  object\n",
      " 2   objective          48726 non-null  object\n",
      " 3   contentUpdateDate  48726 non-null  object\n",
      "dtypes: int64(1), object(3)\n",
      "memory usage: 1.5+ MB\n",
      "None\n"
     ]
    }
   ],
   "source": [
    "# Display basic information about the combined dataset\n",
    "print(df_combined.info())"
   ]
  },
  {
   "cell_type": "code",
   "execution_count": 9,
   "metadata": {},
   "outputs": [
    {
     "name": "stdout",
     "output_type": "stream",
     "text": [
      "Missing values:\n",
      "id                   0\n",
      "title                0\n",
      "objective            0\n",
      "contentUpdateDate    0\n",
      "dtype: int64\n",
      "\n",
      "Unique values in contentUpdateDate: 41424\n",
      "Earliest contentUpdateDate: 2016-11-30 15:22:08\n",
      "Latest contentUpdateDate: 2024-07-22 14:46:47\n"
     ]
    }
   ],
   "source": [
    "# Check for missing values\n",
    "print(\"Missing values:\")\n",
    "print(df_combined.isnull().sum())\n",
    "\n",
    "# Display information about the 'contentUpdateDate' field\n",
    "print(f\"\\nUnique values in contentUpdateDate: {df_combined['contentUpdateDate'].nunique()}\")\n",
    "print(f\"Earliest contentUpdateDate: {df_combined['contentUpdateDate'].min()}\")\n",
    "print(f\"Latest contentUpdateDate: {df_combined['contentUpdateDate'].max()}\")"
   ]
  },
  {
   "cell_type": "code",
   "execution_count": 10,
   "metadata": {},
   "outputs": [
    {
     "name": "stdout",
     "output_type": "stream",
     "text": [
      "ContentUpdateDate statistics:\n",
      "count                            48726\n",
      "mean     2023-04-26 19:03:18.071542784\n",
      "min                2016-11-30 15:22:08\n",
      "25%                2022-08-17 14:58:11\n",
      "50%                2023-03-10 22:32:08\n",
      "75%      2023-12-27 15:44:21.750000128\n",
      "max                2024-07-22 14:46:47\n",
      "Name: contentUpdateDate, dtype: object\n"
     ]
    }
   ],
   "source": [
    "# Convert contentUpdateDate to datetime\n",
    "df_combined['contentUpdateDate'] = pd.to_datetime(df_combined['contentUpdateDate'])\n",
    "\n",
    "# Display basic statistics for contentUpdateDate\n",
    "print(\"ContentUpdateDate statistics:\")\n",
    "print(df_combined['contentUpdateDate'].describe())"
   ]
  },
  {
   "cell_type": "code",
   "execution_count": 11,
   "metadata": {},
   "outputs": [
    {
     "name": "stdout",
     "output_type": "stream",
     "text": [
      "Title length statistics:\n",
      "count    48726.000000\n",
      "mean        80.979313\n",
      "std         35.153915\n",
      "min          3.000000\n",
      "25%         55.000000\n",
      "50%         76.000000\n",
      "75%        101.000000\n",
      "max        265.000000\n",
      "Name: title_length, dtype: float64\n",
      "\n",
      "Objective length statistics:\n",
      "count    48726.000000\n",
      "mean      1829.727948\n",
      "std        292.111287\n",
      "min          2.000000\n",
      "25%       1803.000000\n",
      "50%       1960.000000\n",
      "75%       1991.000000\n",
      "max       3988.000000\n",
      "Name: objective_length, dtype: float64\n"
     ]
    }
   ],
   "source": [
    "# Calculate and display text length statistics\n",
    "df_combined['title_length'] = df_combined['title'].str.len()\n",
    "df_combined['objective_length'] = df_combined['objective'].str.len()\n",
    "\n",
    "print(\"Title length statistics:\")\n",
    "print(df_combined['title_length'].describe())\n",
    "\n",
    "print(\"\\nObjective length statistics:\")\n",
    "print(df_combined['objective_length'].describe())"
   ]
  },
  {
   "cell_type": "code",
   "execution_count": 12,
   "metadata": {},
   "outputs": [
    {
     "name": "stdout",
     "output_type": "stream",
     "text": [
      "Combined dataset saved as a pickle file to ../data/horizon_projects.pkl\n",
      "\n",
      "Verification: Loaded 48726 projects from the saved pickle file\n",
      "          id                                              title  \\\n",
      "0  101006382  Mission-Oriented SwafS to Advance Innovation t...   \n",
      "1     633080  Monitoring Atmospheric Composition and Climate...   \n",
      "2     633212                    Aging Lungs in European Cohorts   \n",
      "3     879534  The Enterprise Europe Network Baden-Wuerttembe...   \n",
      "4     743826  The Enterprise Europe Network Baden-Wuerttembe...   \n",
      "\n",
      "                                           objective   contentUpdateDate  \\\n",
      "0  While most SwafS initiatives have contributed ... 2024-07-22 12:39:54   \n",
      "1  MACC-III is the last of the pre-operational st... 2022-08-16 16:46:44   \n",
      "2  This programme of work will advance the unders... 2023-10-25 16:11:30   \n",
      "3  BW-KAM 5 will implement tested and tailored in... 2022-10-28 14:08:00   \n",
      "4  By providing Key Account Management and Enhanc... 2022-08-15 13:07:16   \n",
      "\n",
      "   title_length  objective_length  \n",
      "0            64              1448  \n",
      "1            51              1932  \n",
      "2            31              1990  \n",
      "3           106               754  \n",
      "4           137               565  \n"
     ]
    }
   ],
   "source": [
    "# Save the combined dataset as a pickle file\n",
    "output_file = \"../data/horizon_projects.pkl\"\n",
    "df_combined.to_pickle(output_file)\n",
    "print(f\"Combined dataset saved as a pickle file to {output_file}\")\n",
    "\n",
    "# Verify the saved file\n",
    "df_saved = pd.read_pickle(output_file)\n",
    "print(f\"\\nVerification: Loaded {len(df_saved)} projects from the saved pickle file\")\n",
    "print(df_saved.head())"
   ]
  },
  {
   "cell_type": "markdown",
   "metadata": {},
   "source": [
    "## Conclusion\n",
    "\n",
    "This notebook has successfully loaded and combined the two project datasets, selecting only the specified fields (id, title, objective, contentUpdateDate). The combined dataset has been saved as a new CSV file. Some basic analysis has been performed to verify the data integrity and provide insights into the dataset."
   ]
  }
 ],
 "metadata": {
  "kernelspec": {
   "display_name": "Python 3",
   "language": "python",
   "name": "python3"
  },
  "language_info": {
   "codemirror_mode": {
    "name": "ipython",
    "version": 3
   },
   "file_extension": ".py",
   "mimetype": "text/x-python",
   "name": "python",
   "nbconvert_exporter": "python",
   "pygments_lexer": "ipython3",
   "version": "3.11.9"
  }
 },
 "nbformat": 4,
 "nbformat_minor": 4
}
