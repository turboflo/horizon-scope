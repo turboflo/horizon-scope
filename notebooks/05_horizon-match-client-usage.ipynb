{
 "cells": [
  {
   "cell_type": "markdown",
   "metadata": {},
   "source": [
    "# Horizon Match - Basic Usage\n",
    "\n",
    "This notebook demonstrates how to use the Horizon Match project for comparing project ideas using vector search and GPT-4-mini."
   ]
  },
  {
   "cell_type": "markdown",
   "metadata": {},
   "source": [
    "## Setup\n",
    "\n",
    "First, let's import the necessary modules and initialize the client."
   ]
  },
  {
   "cell_type": "code",
   "execution_count": null,
   "metadata": {},
   "outputs": [],
   "source": [
    "import pandas as pd\n",
    "from horizon_match.presentation.horizon_match_client import HorizonMatchClient\n",
    "\n",
    "\n",
    "# Initialize the Horizon Match client\n",
    "client = HorizonMatchClient.from_config(\"../config.yml\")\n",
    "\n",
    "print(\"Client initialized successfully.\")"
   ]
  },
  {
   "cell_type": "markdown",
   "metadata": {},
   "source": [
    "## Your Project Idea"
   ]
  },
  {
   "cell_type": "code",
   "execution_count": null,
   "metadata": {},
   "outputs": [],
   "source": [
    "my_project = \"\"\"\n",
    "To establish a network of smart urban gardens across European cities.\n",
    "To integrate IoT sensors and AI-driven systems for efficient crop management and biodiversity enhancement.\n",
    "To improve food security, reduce urban carbon footprints, and foster community resilience against climate change.\n",
    "\"\"\""
   ]
  },
  {
   "cell_type": "markdown",
   "metadata": {},
   "source": [
    "## Search for Similar Projects\n",
    "\n",
    "Now, let's use our new project idea to search for similar projects in the Horizon Match database."
   ]
  },
  {
   "cell_type": "code",
   "execution_count": null,
   "metadata": {},
   "outputs": [],
   "source": [
    "results = client.match(query=my_project, k=1)\n",
    "result = results[0]\n",
    "result"
   ]
  }
 ],
 "metadata": {
  "kernelspec": {
   "display_name": "Python 3",
   "language": "python",
   "name": "python3"
  },
  "language_info": {
   "codemirror_mode": {
    "name": "ipython",
    "version": 3
   },
   "file_extension": ".py",
   "mimetype": "text/x-python",
   "name": "python",
   "nbconvert_exporter": "python",
   "pygments_lexer": "ipython3",
   "version": "3.11.9"
  }
 },
 "nbformat": 4,
 "nbformat_minor": 4
}
