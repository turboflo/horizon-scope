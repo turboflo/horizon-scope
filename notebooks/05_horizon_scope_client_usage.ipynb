{
 "cells": [
  {
   "cell_type": "markdown",
   "metadata": {},
   "source": [
    "# Horizon Match - Basic Usage\n",
    "\n",
    "This notebook demonstrates how to use the Horizon Match project for comparing project ideas using vector search and GPT-4-mini."
   ]
  },
  {
   "cell_type": "markdown",
   "metadata": {},
   "source": [
    "## Setup\n",
    "\n",
    "First, let's import the necessary modules and initialize the client."
   ]
  },
  {
   "cell_type": "code",
   "execution_count": 1,
   "metadata": {},
   "outputs": [
    {
     "name": "stderr",
     "output_type": "stream",
     "text": [
      "/Users/florian/Development/University/horizon-match/.venv/lib/python3.11/site-packages/pinecone/data/index.py:1: TqdmWarning: IProgress not found. Please update jupyter and ipywidgets. See https://ipywidgets.readthedocs.io/en/stable/user_install.html\n",
      "  from tqdm.autonotebook import tqdm\n"
     ]
    },
    {
     "name": "stdout",
     "output_type": "stream",
     "text": [
      "Client initialized successfully.\n"
     ]
    }
   ],
   "source": [
    "from horizon_scope.presentation.horizon_scope_client import HorizonScopeClient\n",
    "\n",
    "\n",
    "# Initialize the Horizon Match client\n",
    "client = HorizonScopeClient.from_config(\"../config.yml\")\n",
    "\n",
    "print(\"Client initialized successfully.\")"
   ]
  },
  {
   "cell_type": "markdown",
   "metadata": {},
   "source": [
    "## Your Project Idea"
   ]
  },
  {
   "cell_type": "code",
   "execution_count": 2,
   "metadata": {},
   "outputs": [],
   "source": [
    "my_project = \"\"\"\n",
    "To establish a network of smart urban gardens across European cities.\n",
    "To integrate IoT sensors and AI-driven systems for efficient crop management and biodiversity enhancement.\n",
    "To improve food security, reduce urban carbon footprints, and foster community resilience against climate change.\n",
    "\"\"\""
   ]
  },
  {
   "cell_type": "markdown",
   "metadata": {},
   "source": [
    "## Search for Similar Projects\n",
    "\n",
    "Now, let's use our new project idea to search for similar projects in the Horizon Match database."
   ]
  },
  {
   "cell_type": "code",
   "execution_count": 7,
   "metadata": {},
   "outputs": [
    {
     "data": {
      "text/plain": [
       "{'project': Project(id='101069990', description='Agriculture has been a nursery for practical solutions to global challenges for a long time. EU agriculture is the only major system in the world that reduced greenhouse gas (CHC) emissions by 20% since 1990. Nonetheless, even though the EU’s transition to sustainable food systems has started in many areas, food systems remain one of the key drivers of climate change and environmental degradation and there is an urgent need to transition to sustainable food systems. To realize this ambition, actors of the food chain must play their part in achieving sustainability within their food chains. To obtain a new quality of sustainable innovation and transform, we need another approach including a more diverse and multidisciplinary perspective, that enables barriers between science, technology, industry, and the arts to be removed, and enabling synergies along the value chain. Hungry EcoCities, takes inspiration from the 2008 book by Carolyn Steel where a core question of civilization, social, phycological and sustainability impact is put forward: how do we feed a city?  To answer this question in this project, growers, and agricultural specialists’ team up with artists, designers and creative thinkers to come up with new ideas for the future food system. Hereby we start from a European approach centered on human needs and values. Hungry EcoCities puts forward a high-level alliance between science, technology, and the arts, to effectively explore how digital technologies & applications can lead in turn to reduced food waste, more sustainable value chains, eco-friendly attitudes, and a more ethical food consumption. Hungry EcoCities brings together some of the world’s most renowned art studios with leading AI and agricultural experts and a network of over 40 leading European agricultural companies to develop ways of creating a more healthy, sustainable, and affordable agri-food system for all.', title='AI enabled artistic solutions for sustainable food systems', content_update_date='2022-08-18T15:12:45', similarity=0.67217344),\n",
       " 'comparison': Comparison(summary='The Hungry EcoCities project aims to innovate sustainable urban food systems by merging multidisciplinary approaches from science, technology, and the arts to address food security and environmental impacts in European cities.', similarity='Both projects share a common objective of enhancing food security and addressing urban sustainability challenges through innovative solutions. They both advocate for the integration of technology—specifically IoT and AI in the first project, and digital technologies in the second—for improving agricultural practices and reducing food waste. Furthermore, both aim to engage a range of stakeholders, including urban communities and agricultural professionals, to create resilient food systems, reflecting a commitment to addressing the multifaceted impacts of climate change and fostering community involvement.', difference=\"The primary divergence between the two projects lies in their methodological and conceptual frameworks: the first project focuses specifically on the establishment of smart urban gardens leveraging IoT and AI for direct crop management and biodiversity, while the Hungry EcoCities project adopts a broader, more multidisciplinary approach that combines artistic and scientific collaboration to reimagine food systems. Additionally, the scope of Hungry EcoCities encompasses a wider range of social, psychological, and cultural dimensions in addressing urban food security, whereas the initial project has a more technical focus on urban agriculture's operational aspects. Geographically, while both projects are set in European contexts, the latter emphasizes a collective European engagement with wide-ranging partnerships.\", score=0.55, confidence=0.82, reason='The assigned similarity score of 0.55 considers the significant overlap in objectives related to food security and sustainability, balanced by the methodological differences in how each project addresses these goals. The confidence score of 0.82 reflects strong alignment with EU Horizon 2020 objectives on sustainable agriculture and urban resilience, as well as clear communication of project ambitions and methodologies.')}"
      ]
     },
     "metadata": {},
     "output_type": "display_data"
    }
   ],
   "source": [
    "results = client.match(query=my_project, k=1)\n",
    "result = results[0]\n",
    "\n",
    "result"
   ]
  }
 ],
 "metadata": {
  "kernelspec": {
   "display_name": "Python 3",
   "language": "python",
   "name": "python3"
  },
  "language_info": {
   "codemirror_mode": {
    "name": "ipython",
    "version": 3
   },
   "file_extension": ".py",
   "mimetype": "text/x-python",
   "name": "python",
   "nbconvert_exporter": "python",
   "pygments_lexer": "ipython3",
   "version": "3.11.9"
  }
 },
 "nbformat": 4,
 "nbformat_minor": 4
}
