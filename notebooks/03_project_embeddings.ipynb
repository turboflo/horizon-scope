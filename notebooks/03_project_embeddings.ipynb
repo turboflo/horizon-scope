{
 "cells": [
  {
   "cell_type": "markdown",
   "metadata": {},
   "source": [
    "# Project Embeddings Generation Notebook\n",
    "\n",
    "This notebook loads the combined project data, generates embeddings using OpenAI's text-embedding-3-small model, and saves the result with embeddings."
   ]
  },
  {
   "cell_type": "code",
   "execution_count": 5,
   "metadata": {},
   "outputs": [],
   "source": [
    "import pandas as pd\n",
    "import numpy as np\n",
    "from openai import OpenAI\n",
    "from tqdm.notebook import tqdm\n",
    "\n",
    "# Initialize the OpenAI client\n",
    "client = OpenAI()"
   ]
  },
  {
   "cell_type": "code",
   "execution_count": 6,
   "metadata": {},
   "outputs": [
    {
     "name": "stdout",
     "output_type": "stream",
     "text": [
      "Loaded 48726 projects\n"
     ]
    },
    {
     "data": {
      "text/html": [
       "<div>\n",
       "<style scoped>\n",
       "    .dataframe tbody tr th:only-of-type {\n",
       "        vertical-align: middle;\n",
       "    }\n",
       "\n",
       "    .dataframe tbody tr th {\n",
       "        vertical-align: top;\n",
       "    }\n",
       "\n",
       "    .dataframe thead th {\n",
       "        text-align: right;\n",
       "    }\n",
       "</style>\n",
       "<table border=\"1\" class=\"dataframe\">\n",
       "  <thead>\n",
       "    <tr style=\"text-align: right;\">\n",
       "      <th></th>\n",
       "      <th>id</th>\n",
       "      <th>title</th>\n",
       "      <th>objective</th>\n",
       "      <th>contentUpdateDate</th>\n",
       "      <th>title_length</th>\n",
       "      <th>objective_length</th>\n",
       "    </tr>\n",
       "  </thead>\n",
       "  <tbody>\n",
       "    <tr>\n",
       "      <th>0</th>\n",
       "      <td>101006382</td>\n",
       "      <td>Mission-Oriented SwafS to Advance Innovation t...</td>\n",
       "      <td>While most SwafS initiatives have contributed ...</td>\n",
       "      <td>2024-07-22 12:39:54</td>\n",
       "      <td>64</td>\n",
       "      <td>1448</td>\n",
       "    </tr>\n",
       "    <tr>\n",
       "      <th>1</th>\n",
       "      <td>633080</td>\n",
       "      <td>Monitoring Atmospheric Composition and Climate...</td>\n",
       "      <td>MACC-III is the last of the pre-operational st...</td>\n",
       "      <td>2022-08-16 16:46:44</td>\n",
       "      <td>51</td>\n",
       "      <td>1932</td>\n",
       "    </tr>\n",
       "    <tr>\n",
       "      <th>2</th>\n",
       "      <td>633212</td>\n",
       "      <td>Aging Lungs in European Cohorts</td>\n",
       "      <td>This programme of work will advance the unders...</td>\n",
       "      <td>2023-10-25 16:11:30</td>\n",
       "      <td>31</td>\n",
       "      <td>1990</td>\n",
       "    </tr>\n",
       "    <tr>\n",
       "      <th>3</th>\n",
       "      <td>879534</td>\n",
       "      <td>The Enterprise Europe Network Baden-Wuerttembe...</td>\n",
       "      <td>BW-KAM 5 will implement tested and tailored in...</td>\n",
       "      <td>2022-10-28 14:08:00</td>\n",
       "      <td>106</td>\n",
       "      <td>754</td>\n",
       "    </tr>\n",
       "    <tr>\n",
       "      <th>4</th>\n",
       "      <td>743826</td>\n",
       "      <td>The Enterprise Europe Network Baden-Wuerttembe...</td>\n",
       "      <td>By providing Key Account Management and Enhanc...</td>\n",
       "      <td>2022-08-15 13:07:16</td>\n",
       "      <td>137</td>\n",
       "      <td>565</td>\n",
       "    </tr>\n",
       "  </tbody>\n",
       "</table>\n",
       "</div>"
      ],
      "text/plain": [
       "          id                                              title  \\\n",
       "0  101006382  Mission-Oriented SwafS to Advance Innovation t...   \n",
       "1     633080  Monitoring Atmospheric Composition and Climate...   \n",
       "2     633212                    Aging Lungs in European Cohorts   \n",
       "3     879534  The Enterprise Europe Network Baden-Wuerttembe...   \n",
       "4     743826  The Enterprise Europe Network Baden-Wuerttembe...   \n",
       "\n",
       "                                           objective   contentUpdateDate  \\\n",
       "0  While most SwafS initiatives have contributed ... 2024-07-22 12:39:54   \n",
       "1  MACC-III is the last of the pre-operational st... 2022-08-16 16:46:44   \n",
       "2  This programme of work will advance the unders... 2023-10-25 16:11:30   \n",
       "3  BW-KAM 5 will implement tested and tailored in... 2022-10-28 14:08:00   \n",
       "4  By providing Key Account Management and Enhanc... 2022-08-15 13:07:16   \n",
       "\n",
       "   title_length  objective_length  \n",
       "0            64              1448  \n",
       "1            51              1932  \n",
       "2            31              1990  \n",
       "3           106               754  \n",
       "4           137               565  "
      ]
     },
     "execution_count": 6,
     "metadata": {},
     "output_type": "execute_result"
    }
   ],
   "source": [
    "# Load the combined project data\n",
    "df = pd.read_pickle(\"../data/horizon_projects.pkl\")\n",
    "print(f\"Loaded {len(df)} projects\")\n",
    "df.head()"
   ]
  },
  {
   "cell_type": "code",
   "execution_count": 7,
   "metadata": {},
   "outputs": [],
   "source": [
    "def get_embedding(text, model=\"text-embedding-3-small\"):\n",
    "    text = text.replace(\"\\n\", \" \")\n",
    "    return client.embeddings.create(input=[text], model=model).data[0].embedding\n",
    "\n",
    "def get_batched_embeddings(texts, model=\"text-embedding-3-small\", batch_size=100):\n",
    "    all_embeddings = []\n",
    "    for i in tqdm(range(0, len(texts), batch_size)):\n",
    "        batch = texts[i:i+batch_size]\n",
    "        batch = [text.replace(\"\\n\", \" \") for text in batch]\n",
    "        embeddings = client.embeddings.create(input=batch, model=model).data\n",
    "        all_embeddings.extend([e.embedding for e in embeddings])\n",
    "    return all_embeddings"
   ]
  },
  {
   "cell_type": "code",
   "execution_count": 8,
   "metadata": {},
   "outputs": [
    {
     "name": "stdout",
     "output_type": "stream",
     "text": [
      "Generating embeddings...\n",
      "Generated embeddings for 48726 projects\n"
     ]
    }
   ],
   "source": [
    "# Combine title and objective for embedding\n",
    "df['combined'] = df['title'] + \" \" + df['objective']\n",
    "\n",
    "# Generate embeddings\n",
    "print(\"Generating embeddings...\")\n",
    "df['ada_embedding'] = df.combined.apply(lambda x: get_embedding(x, model='text-embedding-3-small'))\n",
    "\n",
    "# Remove the temporary column\n",
    "df = df.drop('combined', axis=1)\n",
    "\n",
    "print(f\"Generated embeddings for {len(df)} projects\")"
   ]
  },
  {
   "cell_type": "code",
   "execution_count": 9,
   "metadata": {},
   "outputs": [
    {
     "name": "stdout",
     "output_type": "stream",
     "text": [
      "Embedding shape: 1536\n",
      "\n",
      "First few values of the first embedding:\n",
      "[0.006005911156535149, 0.03230809420347214, 0.04311935976147652, 0.007731314282864332, -0.027782445773482323]\n"
     ]
    }
   ],
   "source": [
    "# Verify the embeddings\n",
    "print(f\"Embedding shape: {len(df['ada_embedding'][0])}\")\n",
    "print(\"\\nFirst few values of the first embedding:\")\n",
    "print(df['ada_embedding'][0][:5])"
   ]
  },
  {
   "cell_type": "code",
   "execution_count": 13,
   "metadata": {},
   "outputs": [
    {
     "name": "stdout",
     "output_type": "stream",
     "text": [
      "DataFrame with embeddings saved to ../data/horizon_projects_embeddings.pkl\n"
     ]
    }
   ],
   "source": [
    "# Save the DataFrame with embeddings\n",
    "output_file = \"../data/horizon_projects_embeddings.pkl\"\n",
    "df.to_pickle(output_file)\n",
    "print(f\"DataFrame with embeddings saved to {output_file}\")"
   ]
  },
  {
   "cell_type": "markdown",
   "metadata": {},
   "source": [
    "## Conclusion\n",
    "\n",
    "This notebook has successfully loaded the combined project data, generated embeddings using OpenAI's text-embedding-3-small model, and saved the result with embeddings. The new CSV file includes all original fields plus an 'ada_embedding' field containing the vector representation of each project's title and objective combined."
   ]
  }
 ],
 "metadata": {
  "kernelspec": {
   "display_name": "Python 3",
   "language": "python",
   "name": "python3"
  },
  "language_info": {
   "codemirror_mode": {
    "name": "ipython",
    "version": 3
   },
   "file_extension": ".py",
   "mimetype": "text/x-python",
   "name": "python",
   "nbconvert_exporter": "python",
   "pygments_lexer": "ipython3",
   "version": "3.11.9"
  }
 },
 "nbformat": 4,
 "nbformat_minor": 4
}
