{
 "cells": [
  {
   "cell_type": "markdown",
   "metadata": {},
   "source": [
    "# Convert .pkl File to Chroma DB using pandas\n",
    "\n",
    "This notebook demonstrates how to load data from a .pkl file using pandas and save it into a Chroma database."
   ]
  },
  {
   "cell_type": "code",
   "execution_count": 1,
   "metadata": {},
   "outputs": [
    {
     "name": "stdout",
     "output_type": "stream",
     "text": [
      "          id                                              title  \\\n",
      "0  101006382  Mission-Oriented SwafS to Advance Innovation t...   \n",
      "1     633080  Monitoring Atmospheric Composition and Climate...   \n",
      "2     633212                    Aging Lungs in European Cohorts   \n",
      "3     879534  The Enterprise Europe Network Baden-Wuerttembe...   \n",
      "4     743826  The Enterprise Europe Network Baden-Wuerttembe...   \n",
      "\n",
      "                                           objective    contentUpdateDate  \\\n",
      "0  While most SwafS initiatives have contributed ...  2024-07-22T12:39:54   \n",
      "1  MACC-III is the last of the pre-operational st...  2022-08-16T16:46:44   \n",
      "2  This programme of work will advance the unders...  2023-10-25T16:11:30   \n",
      "3  BW-KAM 5 will implement tested and tailored in...  2022-10-28T14:08:00   \n",
      "4  By providing Key Account Management and Enhanc...  2022-08-15T13:07:16   \n",
      "\n",
      "   title_length  objective_length  \\\n",
      "0            64              1448   \n",
      "1            51              1932   \n",
      "2            31              1990   \n",
      "3           106               754   \n",
      "4           137               565   \n",
      "\n",
      "                                       ada_embedding  \n",
      "0  [0.006005911156535149, 0.03230809420347214, 0....  \n",
      "1  [0.044956643134355545, 0.015405623242259026, 0...  \n",
      "2  [0.037553153932094574, 0.0009503769688308239, ...  \n",
      "3  [-0.03898268938064575, 0.04282638430595398, 0....  \n",
      "4  [-0.018934201449155807, 0.05221927911043167, 0...  \n"
     ]
    }
   ],
   "source": [
    "import pandas as pd\n",
    "import chromadb\n",
    "from tqdm import tqdm\n",
    "\n",
    "# Define input and output\n",
    "INPUT_PKL_FILE = \"../data/horizon_projects_embeddings.pkl\"\n",
    "# Load data from .pkl file\n",
    "df = pd.read_pickle(INPUT_PKL_FILE)\n",
    "\n",
    "# Convert Timestamp to ISO format string\n",
    "df['contentUpdateDate'] = df['contentUpdateDate'].dt.strftime('%Y-%m-%dT%H:%M:%S')\n",
    "\n",
    "# Display the first few rows of the dataframe\n",
    "print(df.head())"
   ]
  },
  {
   "cell_type": "code",
   "execution_count": null,
   "metadata": {},
   "outputs": [],
   "source": [
    "# Initialize Chroma client with the new method\n",
    "client = chromadb.PersistentClient(path=OUTPUT_PERSIST_DIRECTORY)\n",
    "\n",
    "# Create or get a collection\n",
    "collection = client.get_or_create_collection(name=OUTPUT_COLLECTION_NAME)\n",
    "\n",
    "# Prepare data for Chroma DB\n",
    "ids = df['id'].astype(str).tolist()\n",
    "embeddings = df['ada_embedding'].tolist()\n",
    "metadatas = df[['title', 'objective', 'contentUpdateDate']].to_dict('records')\n",
    "\n",
    "# Add data to the collection in batches\n",
    "total_batches = len(ids) // BATCH_SIZE + (1 if len(ids) % BATCH_SIZE != 0 else 0)\n",
    "\n",
    "for i in tqdm(range(0, len(ids), BATCH_SIZE), total=total_batches, desc=\"Adding batches\"):\n",
    "    batch_end = min(i + BATCH_SIZE, len(ids))\n",
    "    batch_ids = ids[i:batch_end]\n",
    "    batch_embeddings = embeddings[i:batch_end]\n",
    "    batch_metadatas = metadatas[i:batch_end]\n",
    "    \n",
    "    collection.add(\n",
    "        ids=batch_ids,\n",
    "        embeddings=batch_embeddings,\n",
    "        metadatas=batch_metadatas\n",
    "    )\n",
    "\n",
    "print(f\"Data saved to Chroma DB in {OUTPUT_PERSIST_DIRECTORY}\")"
   ]
  },
  {
   "cell_type": "markdown",
   "metadata": {},
   "source": [
    "### Load Existing Chroma DB"
   ]
  },
  {
   "cell_type": "code",
   "execution_count": null,
   "metadata": {},
   "outputs": [],
   "source": [
    "import chromadb\n",
    "from chromadb.config import Settings\n",
    "\n",
    "# Path to your existing Chroma DB\n",
    "PERSIST_DIRECTORY = \"../chroma_db\"\n",
    "COLLECTION_NAME = \"horizon_projects\"\n",
    "\n",
    "# Initialize the Chroma client\n",
    "client = chromadb.PersistentClient(path=PERSIST_DIRECTORY)\n",
    "\n",
    "# Get the existing collection\n",
    "collection = client.get_collection(COLLECTION_NAME)\n",
    "\n",
    "print(f\"Successfully loaded collection: {COLLECTION_NAME}\")\n",
    "\n",
    "# Get the count of items in the collection\n",
    "item_count = collection.count()\n",
    "print(f\"Number of items in the collection: {item_count}\")"
   ]
  }
 ],
 "metadata": {
  "kernelspec": {
   "display_name": "Python 3",
   "language": "python",
   "name": "python3"
  },
  "language_info": {
   "codemirror_mode": {
    "name": "ipython",
    "version": 3
   },
   "file_extension": ".py",
   "mimetype": "text/x-python",
   "name": "python",
   "nbconvert_exporter": "python",
   "pygments_lexer": "ipython3",
   "version": "3.11.9"
  }
 },
 "nbformat": 4,
 "nbformat_minor": 4
}
