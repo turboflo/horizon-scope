{
 "cells": [
  {
   "cell_type": "markdown",
   "metadata": {},
   "source": [
    "# Convert .pkl File to Chroma DB using pandas\n",
    "\n",
    "This notebook demonstrates how to load data from a .pkl file using pandas and save it into a Chroma database."
   ]
  },
  {
   "cell_type": "code",
   "execution_count": null,
   "metadata": {},
   "outputs": [],
   "source": [
    "import pandas as pd\n",
    "import chromadb\n",
    "from tqdm import tqdm\n",
    "\n",
    "# Define input and output\n",
    "INPUT_PKL_FILE = \"../data/horizon_projects_embeddings.pkl\"\n",
    "OUTPUT_COLLECTION_NAME = \"horizon_projects\"\n",
    "OUTPUT_PERSIST_DIRECTORY = \"../chroma_db\"\n",
    "BATCH_SIZE = 40000  # Adjust this value if needed, keeping it well below the max batch size of 41666\n",
    "\n",
    "# Load data from .pkl file\n",
    "df = pd.read_pickle(INPUT_PKL_FILE)\n",
    "\n",
    "# Convert Timestamp to ISO format string\n",
    "df['contentUpdateDate'] = df['contentUpdateDate'].dt.strftime('%Y-%m-%dT%H:%M:%S')\n",
    "\n",
    "# Display the first few rows of the dataframe\n",
    "print(df.head())\n",
    "\n",
    "# Initialize Chroma client with the new method\n",
    "client = chromadb.PersistentClient(path=OUTPUT_PERSIST_DIRECTORY)\n",
    "\n",
    "# Create or get a collection\n",
    "collection = client.get_or_create_collection(name=OUTPUT_COLLECTION_NAME)\n",
    "\n",
    "# Prepare data for Chroma DB\n",
    "ids = df['id'].astype(str).tolist()\n",
    "embeddings = df['ada_embedding'].tolist()\n",
    "metadatas = df[['title', 'objective', 'contentUpdateDate']].to_dict('records')\n",
    "\n",
    "# Add data to the collection in batches\n",
    "total_batches = len(ids) // BATCH_SIZE + (1 if len(ids) % BATCH_SIZE != 0 else 0)\n",
    "\n",
    "for i in tqdm(range(0, len(ids), BATCH_SIZE), total=total_batches, desc=\"Adding batches\"):\n",
    "    batch_end = min(i + BATCH_SIZE, len(ids))\n",
    "    batch_ids = ids[i:batch_end]\n",
    "    batch_embeddings = embeddings[i:batch_end]\n",
    "    batch_metadatas = metadatas[i:batch_end]\n",
    "    \n",
    "    collection.add(\n",
    "        ids=batch_ids,\n",
    "        embeddings=batch_embeddings,\n",
    "        metadatas=batch_metadatas\n",
    "    )\n",
    "\n",
    "print(f\"Data saved to Chroma DB in {OUTPUT_PERSIST_DIRECTORY}\")"
   ]
  },
  {
   "cell_type": "markdown",
   "metadata": {},
   "source": [
    "### Load Existing Chroma DB"
   ]
  },
  {
   "cell_type": "code",
   "execution_count": null,
   "metadata": {},
   "outputs": [],
   "source": [
    "import chromadb\n",
    "from chromadb.config import Settings\n",
    "\n",
    "# Path to your existing Chroma DB\n",
    "PERSIST_DIRECTORY = \"../chroma_db\"\n",
    "COLLECTION_NAME = \"horizon_projects\"\n",
    "\n",
    "# Initialize the Chroma client\n",
    "client = chromadb.PersistentClient(path=PERSIST_DIRECTORY)\n",
    "\n",
    "# Get the existing collection\n",
    "collection = client.get_collection(COLLECTION_NAME)\n",
    "\n",
    "print(f\"Successfully loaded collection: {COLLECTION_NAME}\")\n",
    "\n",
    "# Get the count of items in the collection\n",
    "item_count = collection.count()\n",
    "print(f\"Number of items in the collection: {item_count}\")"
   ]
  }
 ],
 "metadata": {
  "kernelspec": {
   "display_name": "Python 3",
   "language": "python",
   "name": "python3"
  },
  "language_info": {
   "codemirror_mode": {
    "name": "ipython",
    "version": 3
   },
   "file_extension": ".py",
   "mimetype": "text/x-python",
   "name": "python",
   "nbconvert_exporter": "python",
   "pygments_lexer": "ipython3",
   "version": "3.11.9"
  }
 },
 "nbformat": 4,
 "nbformat_minor": 4
}
