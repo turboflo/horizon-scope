{
 "cells": [
  {
   "cell_type": "markdown",
   "metadata": {},
   "source": [
    "# Store Embeddings in Pinecone\n",
    "\n",
    "This notebook demonstrates how to load data from a .pkl file using pandas and save it into a Chroma database."
   ]
  },
  {
   "cell_type": "code",
   "execution_count": 6,
   "metadata": {},
   "outputs": [
    {
     "name": "stderr",
     "output_type": "stream",
     "text": [
      "Adding batches: 100%|██████████| 488/488 [10:05<00:00,  1.24s/it]"
     ]
    },
    {
     "name": "stdout",
     "output_type": "stream",
     "text": [
      "Data uploaded to Pinecone index: projects-text-embedding-3-small\n"
     ]
    },
    {
     "name": "stderr",
     "output_type": "stream",
     "text": [
      "\n"
     ]
    }
   ],
   "source": [
    "import pandas as pd\n",
    "from pinecone import Pinecone\n",
    "from tqdm import tqdm\n",
    "\n",
    "# Constants\n",
    "INPUT_PKL_FILE = \"../data/horizon_projects_embeddings.pkl\"\n",
    "BATCH_SIZE = 100  # Adjust this based on your needs and Pinecone's limits\n",
    "\n",
    "# Initialize Pinecone\n",
    "pc = Pinecone()\n",
    "index = pc.Index(\"projects-text-embedding-3-small\")\n",
    "\n",
    "# Load data from .pkl file\n",
    "df = pd.read_pickle(INPUT_PKL_FILE)\n",
    "\n",
    "# Convert Timestamp to ISO format string\n",
    "df['contentUpdateDate'] = df['contentUpdateDate'].dt.strftime('%Y-%m-%dT%H:%M:%S')\n",
    "\n",
    "# Prepare data for Pinecone\n",
    "ids = df['id'].astype(str).tolist()\n",
    "embeddings = df['ada_embedding'].tolist()\n",
    "metadatas = df[['title', 'objective', 'contentUpdateDate']].to_dict('records')\n",
    "\n",
    "# Add data to Pinecone in batches\n",
    "total_batches = len(ids) // BATCH_SIZE + (1 if len(ids) % BATCH_SIZE != 0 else 0)\n",
    "\n",
    "for i in tqdm(range(0, len(ids), BATCH_SIZE), total=total_batches, desc=\"Adding batches\"):\n",
    "    batch_end = min(i + BATCH_SIZE, len(ids))\n",
    "    batch_ids = ids[i:batch_end]\n",
    "    batch_embeddings = embeddings[i:batch_end]\n",
    "    batch_metadatas = metadatas[i:batch_end]\n",
    "    \n",
    "    # Create a list of dictionaries for upsert\n",
    "    vectors_to_upsert = [\n",
    "        (id, embedding, metadata)\n",
    "        for id, embedding, metadata in zip(batch_ids, batch_embeddings, batch_metadatas)\n",
    "    ]\n",
    "    \n",
    "    # Upsert the batch to Pinecone\n",
    "    index.upsert(vectors=vectors_to_upsert)\n",
    "\n",
    "print(f\"Data uploaded to Pinecone index: projects-text-embedding-3-small\")"
   ]
  }
 ],
 "metadata": {
  "kernelspec": {
   "display_name": "Python 3",
   "language": "python",
   "name": "python3"
  },
  "language_info": {
   "codemirror_mode": {
    "name": "ipython",
    "version": 3
   },
   "file_extension": ".py",
   "mimetype": "text/x-python",
   "name": "python",
   "nbconvert_exporter": "python",
   "pygments_lexer": "ipython3",
   "version": "3.11.9"
  }
 },
 "nbformat": 4,
 "nbformat_minor": 4
}
