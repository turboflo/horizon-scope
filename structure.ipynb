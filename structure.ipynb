{
 "cells": [
  {
   "cell_type": "code",
   "execution_count": 2,
   "metadata": {},
   "outputs": [
    {
     "name": "stdout",
     "output_type": "stream",
     "text": [
      "horizon_match/\n",
      "    __init__.py\n",
      "    application/\n",
      "        __init__.py\n",
      "        use_cases/\n",
      "            __init__.py\n",
      "            compare_projects.py\n",
      "        interfaces/\n",
      "            comparison_service.py\n",
      "            vector_search_service.py\n",
      "            __init__.py\n",
      "    infrastructure/\n",
      "        __init__.py\n",
      "        config/\n",
      "            config_manager.py\n",
      "            __init__.py\n",
      "        services/\n",
      "            pinecone_search_service.py\n",
      "            openai_comparison_service.py\n",
      "            __init__.py\n",
      "    domain/\n",
      "        __init__.py\n",
      "        entities/\n",
      "            __init__.py\n",
      "            horizon_match_result.py\n",
      "            comparison.py\n",
      "            project.py\n",
      "    presentation/\n",
      "        __init__.py\n",
      "        streamlit_app.py\n",
      "        horizon_match_client.py\n"
     ]
    }
   ],
   "source": [
    "import os\n",
    "\n",
    "package_path = \"src/horizon_scope\"\n",
    "\n",
    "# Display the project structure with .py files\n",
    "\n",
    "for root, dirs, files in os.walk(package_path):\n",
    "    level = root.replace(package_path, '').count(os.sep)\n",
    "    indent = ' ' * 4 * (level)\n",
    "    if '__pycache__' not in root:\n",
    "        print('{}{}/'.format(indent, os.path.basename(root)))\n",
    "        subindent = ' ' * 4 * (level + 1)\n",
    "        for f in files:\n",
    "            if not f.endswith('.pyc'):\n",
    "                print('{}{}'.format(subindent, f))\n",
    "        "
   ]
  }
 ],
 "metadata": {
  "kernelspec": {
   "display_name": ".venv",
   "language": "python",
   "name": "python3"
  },
  "language_info": {
   "codemirror_mode": {
    "name": "ipython",
    "version": 3
   },
   "file_extension": ".py",
   "mimetype": "text/x-python",
   "name": "python",
   "nbconvert_exporter": "python",
   "pygments_lexer": "ipython3",
   "version": "3.11.9"
  }
 },
 "nbformat": 4,
 "nbformat_minor": 2
}
